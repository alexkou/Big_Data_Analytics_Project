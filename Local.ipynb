{
 "cells": [
  {
   "cell_type": "code",
   "execution_count": 1,
   "metadata": {},
   "outputs": [],
   "source": [
    "import findspark\n",
    "findspark.init()\n",
    "\n",
    "import pyspark\n",
    "from pyspark.sql import SparkSession\n",
    "from sparkmeasure import StageMetrics\n",
    "from pyspark.sql.functions import lower,col"
   ]
  },
  {
   "cell_type": "code",
   "execution_count": 2,
   "metadata": {},
   "outputs": [],
   "source": [
    "spark = SparkSession \\\n",
    "    .builder \\\n",
    "    .appName('Db Project') \\\n",
    "    .config(\"spark.jars\", \"/spark-measure_2.12-0.17.jar\") \\\n",
    "    .getOrCreate()"
   ]
  },
  {
   "cell_type": "code",
   "execution_count": 3,
   "metadata": {},
   "outputs": [
    {
     "data": {
      "text/html": [
       "\n",
       "            <div>\n",
       "                <p><b>SparkSession - in-memory</b></p>\n",
       "                \n",
       "        <div>\n",
       "            <p><b>SparkContext</b></p>\n",
       "\n",
       "            <p><a href=\"http://DESKTOP-20H00GT:4040\">Spark UI</a></p>\n",
       "\n",
       "            <dl>\n",
       "              <dt>Version</dt>\n",
       "                <dd><code>v3.1.1</code></dd>\n",
       "              <dt>Master</dt>\n",
       "                <dd><code>local[*]</code></dd>\n",
       "              <dt>AppName</dt>\n",
       "                <dd><code>Db Project</code></dd>\n",
       "            </dl>\n",
       "        </div>\n",
       "        \n",
       "            </div>\n",
       "        "
      ],
      "text/plain": [
       "<pyspark.sql.session.SparkSession at 0x2b23ae38250>"
      ]
     },
     "execution_count": 3,
     "metadata": {},
     "output_type": "execute_result"
    }
   ],
   "source": [
    "spark"
   ]
  },
  {
   "cell_type": "code",
   "execution_count": 4,
   "metadata": {},
   "outputs": [],
   "source": [
    "stagemetrics = StageMetrics(spark)"
   ]
  },
  {
   "cell_type": "code",
   "execution_count": 5,
   "metadata": {},
   "outputs": [],
   "source": [
    "movies = (spark.read\n",
    "           .format('csv')\n",
    "           .option('header', 'true')\n",
    "           .option('delimiter', ',')\n",
    "           .option('inferSchema', 'true')\n",
    "           .load('movie.csv'))\n",
    "\n",
    "rating = (spark.read\n",
    "           .format('csv')\n",
    "           .option('header', 'true')\n",
    "           .option('delimiter', ',')\n",
    "           .option('inferSchema', 'true')\n",
    "           .load('rating.csv'))\n",
    "\n",
    "tag = (spark.read\n",
    "           .format('csv')\n",
    "           .option('header', 'true')\n",
    "           .option('delimiter', ',')\n",
    "           .option('inferSchema', 'true')\n",
    "           .load('tag.csv'))"
   ]
  },
  {
   "cell_type": "code",
   "execution_count": 6,
   "metadata": {},
   "outputs": [],
   "source": [
    "tag = tag.withColumn('tag', lower(col('tag')))"
   ]
  },
  {
   "cell_type": "code",
   "execution_count": 7,
   "metadata": {},
   "outputs": [],
   "source": [
    "movies.createOrReplaceTempView('movies')\n",
    "rating.createOrReplaceTempView('ratings')\n",
    "tag.createOrReplaceTempView('tags')"
   ]
  },
  {
   "cell_type": "code",
   "execution_count": 8,
   "metadata": {},
   "outputs": [
    {
     "name": "stdout",
     "output_type": "stream",
     "text": [
      "+-------+--------------------+--------------------+\n",
      "|movieId|               title|              genres|\n",
      "+-------+--------------------+--------------------+\n",
      "|      1|    Toy Story (1995)|Adventure|Animati...|\n",
      "|      2|      Jumanji (1995)|Adventure|Childre...|\n",
      "|      3|Grumpier Old Men ...|      Comedy|Romance|\n",
      "|      4|Waiting to Exhale...|Comedy|Drama|Romance|\n",
      "|      5|Father of the Bri...|              Comedy|\n",
      "+-------+--------------------+--------------------+\n",
      "only showing top 5 rows\n",
      "\n"
     ]
    }
   ],
   "source": [
    "movies.show(5)"
   ]
  },
  {
   "cell_type": "code",
   "execution_count": 9,
   "metadata": {},
   "outputs": [
    {
     "name": "stdout",
     "output_type": "stream",
     "text": [
      "root\n",
      " |-- movieId: integer (nullable = true)\n",
      " |-- title: string (nullable = true)\n",
      " |-- genres: string (nullable = true)\n",
      "\n"
     ]
    }
   ],
   "source": [
    "movies.printSchema()"
   ]
  },
  {
   "cell_type": "code",
   "execution_count": 10,
   "metadata": {},
   "outputs": [
    {
     "name": "stdout",
     "output_type": "stream",
     "text": [
      "+------+-------+------+-------------------+\n",
      "|userId|movieId|rating|          timestamp|\n",
      "+------+-------+------+-------------------+\n",
      "|     1|      2|   3.5|2005-04-02 23:53:47|\n",
      "|     1|     29|   3.5|2005-04-02 23:31:16|\n",
      "|     1|     32|   3.5|2005-04-02 23:33:39|\n",
      "|     1|     47|   3.5|2005-04-02 23:32:07|\n",
      "|     1|     50|   3.5|2005-04-02 23:29:40|\n",
      "+------+-------+------+-------------------+\n",
      "only showing top 5 rows\n",
      "\n"
     ]
    }
   ],
   "source": [
    "rating.show(5)"
   ]
  },
  {
   "cell_type": "code",
   "execution_count": 11,
   "metadata": {},
   "outputs": [
    {
     "name": "stdout",
     "output_type": "stream",
     "text": [
      "root\n",
      " |-- userId: integer (nullable = true)\n",
      " |-- movieId: integer (nullable = true)\n",
      " |-- rating: double (nullable = true)\n",
      " |-- timestamp: string (nullable = true)\n",
      "\n"
     ]
    }
   ],
   "source": [
    "rating.printSchema()"
   ]
  },
  {
   "cell_type": "code",
   "execution_count": 12,
   "metadata": {},
   "outputs": [
    {
     "name": "stdout",
     "output_type": "stream",
     "text": [
      "+------+-------+-------------+-------------------+\n",
      "|userId|movieId|          tag|          timestamp|\n",
      "+------+-------+-------------+-------------------+\n",
      "|    18|   4141|  mark waters|2009-04-24 18:19:40|\n",
      "|    65|    208|    dark hero|2013-05-10 01:41:18|\n",
      "|    65|    353|    dark hero|2013-05-10 01:41:19|\n",
      "|    65|    521|noir thriller|2013-05-10 01:39:43|\n",
      "|    65|    592|    dark hero|2013-05-10 01:41:18|\n",
      "+------+-------+-------------+-------------------+\n",
      "only showing top 5 rows\n",
      "\n"
     ]
    }
   ],
   "source": [
    "tag.show(5)"
   ]
  },
  {
   "cell_type": "code",
   "execution_count": 13,
   "metadata": {
    "scrolled": true
   },
   "outputs": [
    {
     "name": "stdout",
     "output_type": "stream",
     "text": [
      "root\n",
      " |-- userId: integer (nullable = true)\n",
      " |-- movieId: integer (nullable = true)\n",
      " |-- tag: string (nullable = true)\n",
      " |-- timestamp: string (nullable = true)\n",
      "\n"
     ]
    }
   ],
   "source": [
    "tag.printSchema()"
   ]
  },
  {
   "cell_type": "markdown",
   "metadata": {},
   "source": [
    "## Query 1"
   ]
  },
  {
   "cell_type": "markdown",
   "metadata": {},
   "source": [
    "### Δώστε το πλήθος των χρηστών που είδαν την ταινία “Jumanji”"
   ]
  },
  {
   "cell_type": "code",
   "execution_count": 14,
   "metadata": {},
   "outputs": [
    {
     "name": "stdout",
     "output_type": "stream",
     "text": [
      "+-----+\n",
      "|users|\n",
      "+-----+\n",
      "|22243|\n",
      "+-----+\n",
      "\n"
     ]
    }
   ],
   "source": [
    "stagemetrics.begin()\n",
    "spark.sql(\"SELECT COUNT(userId) AS users FROM ratings \\\n",
    "           WHERE movieId = (SELECT movieId FROM movies WHERE title='Jumanji (1995)')\").show()\n",
    "stagemetrics.end()"
   ]
  },
  {
   "cell_type": "code",
   "execution_count": null,
   "metadata": {},
   "outputs": [],
   "source": [
    "stagemetrics.print_report()"
   ]
  },
  {
   "cell_type": "markdown",
   "metadata": {},
   "source": [
    "## Query 2"
   ]
  },
  {
   "cell_type": "markdown",
   "metadata": {},
   "source": [
    "### Δώστε τα ονόματα των ταινιών που οι χρήστες χαρακτήρισαν ως “boring”"
   ]
  },
  {
   "cell_type": "code",
   "execution_count": 16,
   "metadata": {},
   "outputs": [
    {
     "name": "stdout",
     "output_type": "stream",
     "text": [
      "+-------+--------------------+--------------------+------+-------+-------------+-------------------+\n",
      "|movieId|               title|              genres|userId|movieId|          tag|          timestamp|\n",
      "+-------+--------------------+--------------------+------+-------+-------------+-------------------+\n",
      "|   4141|Head Over Heels (...|      Comedy|Romance|    18|   4141|  mark waters|2009-04-24 18:19:40|\n",
      "|    208|   Waterworld (1995)|Action|Adventure|...|    65|    208|    dark hero|2013-05-10 01:41:18|\n",
      "|    353|    Crow, The (1994)|Action|Crime|Fant...|    65|    353|    dark hero|2013-05-10 01:41:19|\n",
      "|    521|Romeo Is Bleeding...|      Crime|Thriller|    65|    521|noir thriller|2013-05-10 01:39:43|\n",
      "|    592|       Batman (1989)|Action|Crime|Thri...|    65|    592|    dark hero|2013-05-10 01:41:18|\n",
      "+-------+--------------------+--------------------+------+-------+-------------+-------------------+\n",
      "only showing top 5 rows\n",
      "\n"
     ]
    }
   ],
   "source": [
    "spark.sql(\"SELECT * FROM movies INNER JOIN tags ON tags.movieId=movies.movieID\").show(5)"
   ]
  },
  {
   "cell_type": "code",
   "execution_count": 15,
   "metadata": {},
   "outputs": [
    {
     "name": "stdout",
     "output_type": "stream",
     "text": [
      "+------------------------------------+\n",
      "|title                               |\n",
      "+------------------------------------+\n",
      "|(500) Days of Summer (2009)         |\n",
      "|101 Reykjavik (101 Reykjavík) (2000)|\n",
      "|12 Years a Slave (2013)             |\n",
      "|1408 (2007)                         |\n",
      "|1492: Conquest of Paradise (1992)   |\n",
      "+------------------------------------+\n",
      "\n"
     ]
    }
   ],
   "source": [
    "stagemetrics.begin()\n",
    "spark.sql(\"SELECT DISTINCT(title) FROM movies \\\n",
    "           INNER JOIN tags ON tags.movieId=movies.movieID \\\n",
    "           WHERE tag='boring' \\\n",
    "           ORDER BY 1 ASC LIMIT 5\").show(truncate=0)\n",
    "stagemetrics.end()"
   ]
  },
  {
   "cell_type": "code",
   "execution_count": null,
   "metadata": {},
   "outputs": [],
   "source": [
    "stagemetrics.print_report()"
   ]
  },
  {
   "cell_type": "markdown",
   "metadata": {},
   "source": [
    "## Query 3 "
   ]
  },
  {
   "cell_type": "markdown",
   "metadata": {},
   "source": [
    "### Δώστε τους χρήστες που έχουν χαρακτηρίσει την ταινία ως “Bollywood” και την έχουν αξιολογήσει με βαθμό >3"
   ]
  },
  {
   "cell_type": "code",
   "execution_count": 19,
   "metadata": {},
   "outputs": [
    {
     "name": "stdout",
     "output_type": "stream",
     "text": [
      "+------+-------+------+-------------------+------+-------+------------------+-------------------+\n",
      "|userId|movieId|rating|          timestamp|userId|movieId|               tag|          timestamp|\n",
      "+------+-------+------+-------------------+------+-------+------------------+-------------------+\n",
      "| 23171|      1|   3.5|2005-11-02 10:13:17| 23171|      1|             pixar|2006-02-21 11:39:44|\n",
      "| 88055|      1|   3.0|2012-06-12 20:12:42| 88055|      1|          children|2012-06-12 20:12:52|\n",
      "| 88055|      1|   3.0|2012-06-12 20:12:42| 88055|      1|computer animation|2012-06-12 20:13:11|\n",
      "| 88055|      1|   3.0|2012-06-12 20:12:42| 88055|      1|            family|2012-06-12 20:12:55|\n",
      "| 88055|      1|   3.0|2012-06-12 20:12:42| 88055|      1|          humorous|2012-06-12 20:13:09|\n",
      "+------+-------+------+-------------------+------+-------+------------------+-------------------+\n",
      "only showing top 5 rows\n",
      "\n"
     ]
    }
   ],
   "source": [
    "spark.sql(\"SELECT * FROM ratings INNER JOIN tags ON tags.movieId = ratings.movieId AND tags.userId = ratings.userId\").show(5)"
   ]
  },
  {
   "cell_type": "code",
   "execution_count": 15,
   "metadata": {},
   "outputs": [
    {
     "name": "stdout",
     "output_type": "stream",
     "text": [
      "+------+\n",
      "|userId|\n",
      "+------+\n",
      "| 10573|\n",
      "| 19837|\n",
      "| 23333|\n",
      "| 25004|\n",
      "| 31338|\n",
      "+------+\n",
      "\n"
     ]
    }
   ],
   "source": [
    "stagemetrics.begin()\n",
    "spark.sql(\"SELECT DISTINCT(ratings.userId) FROM ratings \\\n",
    "           INNER JOIN tags ON tags.movieId = ratings.movieId AND tags.userId = ratings.userId \\\n",
    "           WHERE tag='bollywood' AND rating>3 \\\n",
    "           ORDER BY ratings.userId LIMIT 5\").show()\n",
    "stagemetrics.end() "
   ]
  },
  {
   "cell_type": "code",
   "execution_count": null,
   "metadata": {},
   "outputs": [],
   "source": [
    "stagemetrics.print_report()"
   ]
  },
  {
   "cell_type": "markdown",
   "metadata": {},
   "source": [
    "## Query 4"
   ]
  },
  {
   "cell_type": "markdown",
   "metadata": {},
   "source": [
    "### Βρείτε τις 10 κορυφαίες με βάση το μέσο όρο βαθμολογιών που έχουν λάβει οι ταινίες ανά έτος βαθμολόγησης - 2005"
   ]
  },
  {
   "cell_type": "code",
   "execution_count": 21,
   "metadata": {},
   "outputs": [
    {
     "name": "stdout",
     "output_type": "stream",
     "text": [
      "+-------+--------------------+--------------------+------+-------+------+-------------------+\n",
      "|movieId|               title|              genres|userId|movieId|rating|          timestamp|\n",
      "+-------+--------------------+--------------------+------+-------+------+-------------------+\n",
      "|      2|      Jumanji (1995)|Adventure|Childre...|     1|      2|   3.5|2005-04-02 23:53:47|\n",
      "|     29|City of Lost Chil...|Adventure|Drama|F...|     1|     29|   3.5|2005-04-02 23:31:16|\n",
      "|     32|Twelve Monkeys (a...|Mystery|Sci-Fi|Th...|     1|     32|   3.5|2005-04-02 23:33:39|\n",
      "|     47|Seven (a.k.a. Se7...|    Mystery|Thriller|     1|     47|   3.5|2005-04-02 23:32:07|\n",
      "|     50|Usual Suspects, T...|Crime|Mystery|Thr...|     1|     50|   3.5|2005-04-02 23:29:40|\n",
      "+-------+--------------------+--------------------+------+-------+------+-------------------+\n",
      "only showing top 5 rows\n",
      "\n"
     ]
    }
   ],
   "source": [
    "spark.sql(\"SELECT * FROM movies INNER JOIN ratings ON movies.movieId=ratings.movieId\").show(5)"
   ]
  },
  {
   "cell_type": "code",
   "execution_count": 16,
   "metadata": {},
   "outputs": [
    {
     "name": "stdout",
     "output_type": "stream",
     "text": [
      "+----------------------------------------------------------------------------+-----------+\n",
      "|title                                                                       |avg(rating)|\n",
      "+----------------------------------------------------------------------------+-----------+\n",
      "|Before the Fall (NaPolA - Elite für den Führer) (2004)                      |5.0        |\n",
      "|Dancemaker (1998)                                                           |5.0        |\n",
      "|Fear Strikes Out (1957)                                                     |5.0        |\n",
      "|Gate of Heavenly Peace, The (1995)                                          |5.0        |\n",
      "|Life Is Rosy (a.k.a. Life Is Beautiful) (Vie est belle, La) (1987)          |5.0        |\n",
      "|Married to It (1991)                                                        |5.0        |\n",
      "|My Life and Times With Antonin Artaud (En compagnie d'Antonin Artaud) (1993)|5.0        |\n",
      "|Not Love, Just Frenzy (Más que amor, frenesí) (1996)                        |5.0        |\n",
      "|Paris Was a Woman (1995)                                                    |5.0        |\n",
      "|Take Care of My Cat (Goyangileul butaghae) (2001)                           |5.0        |\n",
      "+----------------------------------------------------------------------------+-----------+\n",
      "\n"
     ]
    }
   ],
   "source": [
    "stagemetrics.begin()\n",
    "spark.sql(\"SELECT title,AVG(rating) FROM movies \\\n",
    "           INNER JOIN ratings ON movies.movieId=ratings.movieId \\\n",
    "           WHERE timestamp LIKE '2005%' \\\n",
    "           GROUP BY 1 ORDER BY 2 DESC, movies.title LIMIT 10\").show(truncate=0)\n",
    "stagemetrics.end()"
   ]
  },
  {
   "cell_type": "code",
   "execution_count": null,
   "metadata": {},
   "outputs": [],
   "source": [
    "stagemetrics.print_report()"
   ]
  },
  {
   "cell_type": "markdown",
   "metadata": {},
   "source": [
    "## Query 5"
   ]
  },
  {
   "cell_type": "markdown",
   "metadata": {},
   "source": [
    "### Δώστε τις ετικέτες για κάθε ταινία και το όνομα της ταινίας για το έτος 2015 - 5 πρώτες αλφαβητικά"
   ]
  },
  {
   "cell_type": "code",
   "execution_count": 22,
   "metadata": {},
   "outputs": [
    {
     "name": "stdout",
     "output_type": "stream",
     "text": [
      "+-------+--------------------+--------------------+------+-------+-------------+-------------------+\n",
      "|movieId|               title|              genres|userId|movieId|          tag|          timestamp|\n",
      "+-------+--------------------+--------------------+------+-------+-------------+-------------------+\n",
      "|   4141|Head Over Heels (...|      Comedy|Romance|    18|   4141|  mark waters|2009-04-24 18:19:40|\n",
      "|    208|   Waterworld (1995)|Action|Adventure|...|    65|    208|    dark hero|2013-05-10 01:41:18|\n",
      "|    353|    Crow, The (1994)|Action|Crime|Fant...|    65|    353|    dark hero|2013-05-10 01:41:19|\n",
      "|    521|Romeo Is Bleeding...|      Crime|Thriller|    65|    521|noir thriller|2013-05-10 01:39:43|\n",
      "|    592|       Batman (1989)|Action|Crime|Thri...|    65|    592|    dark hero|2013-05-10 01:41:18|\n",
      "+-------+--------------------+--------------------+------+-------+-------------+-------------------+\n",
      "only showing top 5 rows\n",
      "\n"
     ]
    }
   ],
   "source": [
    "spark.sql(\"SELECT * FROM movies INNER JOIN tags ON tags.movieId=movies.movieId\").show(5)"
   ]
  },
  {
   "cell_type": "code",
   "execution_count": 17,
   "metadata": {},
   "outputs": [
    {
     "name": "stdout",
     "output_type": "stream",
     "text": [
      "+--------------------+--------------------+\n",
      "|               title|                tags|\n",
      "+--------------------+--------------------+\n",
      "|\"\"Great Performan...|              [bd-r]|\n",
      "|  'burbs, The (1989)|[1980's, dark com...|\n",
      "|(500) Days of Sum...|[zooey deschanel,...|\n",
      "|...tick... tick.....|              [bd-r]|\n",
      "|            1 (2014)|           [sukumar]|\n",
      "+--------------------+--------------------+\n",
      "\n"
     ]
    }
   ],
   "source": [
    "stagemetrics.begin()\n",
    "spark.sql(\"SELECT movies.title as title, collect_set(tags.tag) AS tags FROM movies \\\n",
    "           INNER JOIN tags ON tags.movieId = movies.movieId \\\n",
    "           WHERE tags.timestamp LIKE '2015%' \\\n",
    "           GROUP BY title ORDER BY title LIMIT 5\").show()\n",
    "stagemetrics.end()"
   ]
  },
  {
   "cell_type": "code",
   "execution_count": null,
   "metadata": {},
   "outputs": [],
   "source": [
    "stagemetrics.print_report()"
   ]
  },
  {
   "cell_type": "markdown",
   "metadata": {},
   "source": [
    "## Query 6"
   ]
  },
  {
   "cell_type": "markdown",
   "metadata": {},
   "source": [
    "### Δώστε το πλήθος των ratings για κάθε ταινία - 5 πρώτες με βάση το πλήθος ratings"
   ]
  },
  {
   "cell_type": "code",
   "execution_count": 24,
   "metadata": {},
   "outputs": [
    {
     "name": "stdout",
     "output_type": "stream",
     "text": [
      "+-------+--------------------+--------------------+------+-------+------+-------------------+\n",
      "|movieId|               title|              genres|userId|movieId|rating|          timestamp|\n",
      "+-------+--------------------+--------------------+------+-------+------+-------------------+\n",
      "|      2|      Jumanji (1995)|Adventure|Childre...|     1|      2|   3.5|2005-04-02 23:53:47|\n",
      "|     29|City of Lost Chil...|Adventure|Drama|F...|     1|     29|   3.5|2005-04-02 23:31:16|\n",
      "|     32|Twelve Monkeys (a...|Mystery|Sci-Fi|Th...|     1|     32|   3.5|2005-04-02 23:33:39|\n",
      "|     47|Seven (a.k.a. Se7...|    Mystery|Thriller|     1|     47|   3.5|2005-04-02 23:32:07|\n",
      "|     50|Usual Suspects, T...|Crime|Mystery|Thr...|     1|     50|   3.5|2005-04-02 23:29:40|\n",
      "+-------+--------------------+--------------------+------+-------+------+-------------------+\n",
      "only showing top 5 rows\n",
      "\n"
     ]
    }
   ],
   "source": [
    "spark.sql(\"SELECT * FROM  movies INNER JOIN ratings ON movies.movieId=ratings.movieId\").show(5)"
   ]
  },
  {
   "cell_type": "code",
   "execution_count": 19,
   "metadata": {},
   "outputs": [
    {
     "name": "stdout",
     "output_type": "stream",
     "text": [
      "+--------------------------------+-------------+\n",
      "|title                           |count(rating)|\n",
      "+--------------------------------+-------------+\n",
      "|Pulp Fiction (1994)             |67310        |\n",
      "|Forrest Gump (1994)             |66172        |\n",
      "|Shawshank Redemption, The (1994)|63366        |\n",
      "|Silence of the Lambs, The (1991)|63299        |\n",
      "|Jurassic Park (1993)            |59715        |\n",
      "+--------------------------------+-------------+\n",
      "\n"
     ]
    }
   ],
   "source": [
    "stagemetrics.begin()\n",
    "spark.sql(\"SELECT title,COUNT(rating) FROM movies \\\n",
    "           INNER JOIN ratings ON movies.movieId=ratings.movieId \\\n",
    "           GROUP BY 1 ORDER BY 2 DESC LIMIT 5\").show(truncate=0)\n",
    "stagemetrics.end()"
   ]
  },
  {
   "cell_type": "code",
   "execution_count": null,
   "metadata": {},
   "outputs": [],
   "source": [
    "stagemetrics.print_report()"
   ]
  },
  {
   "cell_type": "markdown",
   "metadata": {},
   "source": [
    "## Query 7"
   ]
  },
  {
   "cell_type": "markdown",
   "metadata": {},
   "source": [
    "### Βρείτε τους 10 πρώτους χρήστες με τα περισσότερα rating για κάθε χρονιά - 1995"
   ]
  },
  {
   "cell_type": "code",
   "execution_count": 25,
   "metadata": {},
   "outputs": [
    {
     "name": "stdout",
     "output_type": "stream",
     "text": [
      "+------+-------+------+-------------------+\n",
      "|userId|movieId|rating|          timestamp|\n",
      "+------+-------+------+-------------------+\n",
      "|     1|      2|   3.5|2005-04-02 23:53:47|\n",
      "|     1|     29|   3.5|2005-04-02 23:31:16|\n",
      "|     1|     32|   3.5|2005-04-02 23:33:39|\n",
      "|     1|     47|   3.5|2005-04-02 23:32:07|\n",
      "|     1|     50|   3.5|2005-04-02 23:29:40|\n",
      "+------+-------+------+-------------------+\n",
      "only showing top 5 rows\n",
      "\n"
     ]
    }
   ],
   "source": [
    "spark.sql(\"SELECT * FROM ratings\").show(5)"
   ]
  },
  {
   "cell_type": "code",
   "execution_count": 18,
   "metadata": {},
   "outputs": [
    {
     "name": "stdout",
     "output_type": "stream",
     "text": [
      "+------+-------------+\n",
      "|userId|count(rating)|\n",
      "+------+-------------+\n",
      "| 28507|            1|\n",
      "|131160|            3|\n",
      "+------+-------------+\n",
      "\n"
     ]
    }
   ],
   "source": [
    "stagemetrics.begin()\n",
    "spark.sql(\"SELECT userId, COUNT(rating) FROM ratings \\\n",
    "           WHERE SUBSTRING(timestamp,1,4) = '1995' \\\n",
    "           GROUP BY userId, SUBSTRING(timestamp,1,4) LIMIT 10\").show()\n",
    "stagemetrics.end()"
   ]
  },
  {
   "cell_type": "code",
   "execution_count": null,
   "metadata": {},
   "outputs": [],
   "source": [
    "stagemetrics.print_report()"
   ]
  },
  {
   "cell_type": "markdown",
   "metadata": {},
   "source": [
    "## Query 8"
   ]
  },
  {
   "cell_type": "markdown",
   "metadata": {},
   "source": [
    "### Βρείτε τις ταινίες με τα περισσότερα ratings για κάθε κατηγορία ταινίας - 5 πρώτες κατηγορίες αλφαβητικά, και την δημοφιλέστερη ταινία σε κάθε μία από αυτές, με βάση το πλήθος ratings"
   ]
  },
  {
   "cell_type": "code",
   "execution_count": 39,
   "metadata": {},
   "outputs": [
    {
     "name": "stdout",
     "output_type": "stream",
     "text": [
      "+------------------+--------------------+-----+\n",
      "|            genres|               title|count|\n",
      "+------------------+--------------------+-----+\n",
      "|(no genres listed)|Doctor Who: The T...|   36|\n",
      "|(no genres listed)|Scorpio Rising (1...|   24|\n",
      "|(no genres listed)|      At Land (1944)|   10|\n",
      "|(no genres listed)|  Petting Zoo (2015)|    6|\n",
      "|(no genres listed)|      Bizarre (2015)|    5|\n",
      "+------------------+--------------------+-----+\n",
      "only showing top 5 rows\n",
      "\n"
     ]
    }
   ],
   "source": [
    "spark.sql(\"SELECT movies.genres, movies.title, COUNT(ratings.rating) AS count FROM movies \\\n",
    "             INNER JOIN ratings ON ratings.movieId = movies.movieId \\\n",
    "             GROUP BY movies.genres, movies.title ORDER BY genres, count DESC\").show(5)"
   ]
  },
  {
   "cell_type": "code",
   "execution_count": 40,
   "metadata": {},
   "outputs": [
    {
     "name": "stdout",
     "output_type": "stream",
     "text": [
      "+-----------------------------------+------------------------------------------------------------------------------+-------------+\n",
      "|genres                             |title                                                                         |total_ratings|\n",
      "+-----------------------------------+------------------------------------------------------------------------------+-------------+\n",
      "|(no genres listed)                 |Doctor Who: The Time of the Doctor (2013)                                     |36           |\n",
      "|Action                             |Under Siege 2: Dark Territory (1995)                                          |8335         |\n",
      "|Action|Adventure                   |Raiders of the Lost Ark (Indiana Jones and the Raiders of the Lost Ark) (1981)|43295        |\n",
      "|Action|Adventure|Animation         |How to Train Your Dragon 2 (2014)                                             |678          |\n",
      "|Action|Adventure|Animation|Children|Brave (2012)                                                                  |1224         |\n",
      "+-----------------------------------+------------------------------------------------------------------------------+-------------+\n",
      "\n"
     ]
    }
   ],
   "source": [
    "stagemetrics.begin()\n",
    "spark.sql(\"SELECT genres, first(title) as title, MAX(count) as total_ratings FROM \\\n",
    "            (SELECT movies.genres, movies.title, COUNT(ratings.rating) AS count FROM movies \\\n",
    "             INNER JOIN ratings ON ratings.movieId = movies.movieId \\\n",
    "             GROUP BY movies.genres, movies.title ORDER BY genres, count DESC) \\\n",
    "           GROUP BY genres ORDER BY genres LIMIT 5\").show(truncate=0)\n",
    "stagemetrics.end()"
   ]
  },
  {
   "cell_type": "code",
   "execution_count": null,
   "metadata": {},
   "outputs": [],
   "source": [
    "stagemetrics.print_report()"
   ]
  },
  {
   "cell_type": "markdown",
   "metadata": {},
   "source": [
    "## Query 9"
   ]
  },
  {
   "cell_type": "markdown",
   "metadata": {},
   "source": [
    "### Δώστε το σύνολο των χρηστών που παρακολουθούν την ίδια ταινία, την ίδια μέρα και ώρα"
   ]
  },
  {
   "cell_type": "code",
   "execution_count": 21,
   "metadata": {
    "scrolled": true
   },
   "outputs": [
    {
     "name": "stdout",
     "output_type": "stream",
     "text": [
      "+-------+---------------------------+-----+\n",
      "|movieId|substring(timestamp, 1, 13)|total|\n",
      "+-------+---------------------------+-----+\n",
      "|   1639|              1998-05-22 15|  271|\n",
      "|    986|              1998-05-22 13|  194|\n",
      "|    426|              1998-05-22 11|  134|\n",
      "|   1639|              1998-05-22 16|  127|\n",
      "|   1633|              1998-05-22 13|  126|\n",
      "+-------+---------------------------+-----+\n",
      "only showing top 5 rows\n",
      "\n"
     ]
    }
   ],
   "source": [
    "spark.sql(\"SELECT movieId, SUBSTRING(timestamp,1,13), COUNT(userId) as total FROM ratings \\\n",
    "             GROUP BY movieId, SUBSTRING(timestamp,1,13) \\\n",
    "             HAVING total > 1 ORDER BY total DESC\").show(5)"
   ]
  },
  {
   "cell_type": "code",
   "execution_count": 22,
   "metadata": {},
   "outputs": [
    {
     "name": "stdout",
     "output_type": "stream",
     "text": [
      "+----------+\n",
      "|sum(total)|\n",
      "+----------+\n",
      "|   4280240|\n",
      "+----------+\n",
      "\n"
     ]
    }
   ],
   "source": [
    "stagemetrics.begin()\n",
    "spark.sql(\"SELECT SUM(total) FROM \\\n",
    "            (SELECT COUNT(userId) as total FROM ratings \\\n",
    "             GROUP BY movieId, SUBSTRING(timestamp,1,13) \\\n",
    "             HAVING total > 1 ORDER BY total DESC)\").show()\n",
    "stagemetrics.end()"
   ]
  },
  {
   "cell_type": "code",
   "execution_count": null,
   "metadata": {},
   "outputs": [],
   "source": [
    "stagemetrics.print_report()"
   ]
  },
  {
   "cell_type": "markdown",
   "metadata": {},
   "source": [
    "# Query 10"
   ]
  },
  {
   "cell_type": "markdown",
   "metadata": {},
   "source": [
    "### Δώστε το πλήθος των ταινιών, για κάθε κατηγορία, που οι χρήστες χαρακτήρισαν ως “funny” και με rating > 3.5"
   ]
  },
  {
   "cell_type": "code",
   "execution_count": 38,
   "metadata": {
    "scrolled": false
   },
   "outputs": [
    {
     "name": "stdout",
     "output_type": "stream",
     "text": [
      "+-------+------+------+--------------------+\n",
      "|movieId|genres|rating|                 tag|\n",
      "+-------+------+------+--------------------+\n",
      "|    148| Drama|   3.0|nudity (topless -...|\n",
      "|    148| Drama|   3.0|    nudity (topless)|\n",
      "|    148| Drama|   2.0|nudity (topless -...|\n",
      "|    148| Drama|   2.0|    nudity (topless)|\n",
      "|    148| Drama|   4.5|nudity (topless -...|\n",
      "+-------+------+------+--------------------+\n",
      "only showing top 5 rows\n",
      "\n"
     ]
    }
   ],
   "source": [
    "spark.sql(\"SELECT ratings.movieId, movies.genres, ratings.rating, tags.tag FROM ratings \\\n",
    "          INNER JOIN movies ON movies.movieId = ratings.movieId \\\n",
    "          INNER JOIN tags ON tags.movieId = ratings.movieId \").show(5)"
   ]
  },
  {
   "cell_type": "code",
   "execution_count": 23,
   "metadata": {},
   "outputs": [
    {
     "name": "stdout",
     "output_type": "stream",
     "text": [
      "+--------------------------------------------------+--------------+\n",
      "|genres                                            |count(movieId)|\n",
      "+--------------------------------------------------+--------------+\n",
      "|Action|Adventure                                  |2140          |\n",
      "|Action|Adventure|Animation|Children|Comedy        |89936         |\n",
      "|Action|Adventure|Animation|Children|Comedy|Fantasy|1472          |\n",
      "|Action|Adventure|Animation|Children|Comedy|IMAX   |410           |\n",
      "|Action|Adventure|Animation|Children|Comedy|Sci-Fi |366           |\n",
      "+--------------------------------------------------+--------------+\n",
      "\n"
     ]
    }
   ],
   "source": [
    "stagemetrics.begin()\n",
    "spark.sql(\"SELECT movies.genres, COUNT(ratings.movieId) FROM ratings \\\n",
    "            INNER JOIN movies ON movies.movieId = ratings.movieId \\\n",
    "            INNER JOIN tags ON tags.movieId = ratings.movieId \\\n",
    "            WHERE ratings.rating > 3.5 AND tags.tag LIKE '%funny%' \\\n",
    "            GROUP BY movies.genres ORDER BY genres LIMIT 5\").show(truncate=0)\n",
    "stagemetrics.end()"
   ]
  },
  {
   "cell_type": "code",
   "execution_count": null,
   "metadata": {},
   "outputs": [],
   "source": [
    "stagemetrics.print_report()"
   ]
  }
 ],
 "metadata": {
  "kernelspec": {
   "display_name": "Python 3",
   "language": "python",
   "name": "python3"
  },
  "language_info": {
   "codemirror_mode": {
    "name": "ipython",
    "version": 3
   },
   "file_extension": ".py",
   "mimetype": "text/x-python",
   "name": "python",
   "nbconvert_exporter": "python",
   "pygments_lexer": "ipython3",
   "version": "3.8.5"
  }
 },
 "nbformat": 4,
 "nbformat_minor": 4
}
